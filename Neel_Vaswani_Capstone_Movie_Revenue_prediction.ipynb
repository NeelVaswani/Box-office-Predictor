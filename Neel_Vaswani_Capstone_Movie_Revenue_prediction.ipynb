{
 "cells": [
  {
   "cell_type": "markdown",
   "metadata": {
    "tags": []
   },
   "source": [
    "# Movie Earnings prediction\n",
    "# Capstone Project"
   ]
  },
  {
   "cell_type": "markdown",
   "metadata": {},
   "source": [
    "- **Name :** Neel Vaswani     \n",
    "    **Student ID :** 2538560"
   ]
  },
  {
   "cell_type": "markdown",
   "metadata": {},
   "source": [
    "# Table of Contents\n",
    "\n",
    "* [Importing Packages](#1)\n",
    "* [Importing Dataset](#2)\n",
    "* [Exploratory data analysis](#3)\n",
    "* [Data Preparation](#4)\n",
    "* [Creating feature and target dataframes](#5)\n",
    "* [Splitting the data](#6)\n",
    "* [Building the Models](#7)\n",
    "    * [Linear Regression](#7.1)\n",
    "* [Evaluating the model](#8)\n",
    "* [Creating function for UI](#9)\n",
    "* [Creating Tkinter UI](#10)\n",
    "* [References](#11)"
   ]
  },
  {
   "cell_type": "markdown",
   "metadata": {},
   "source": [
    "## Importing Packages  <a id=\"1\"></a>"
   ]
  },
  {
   "cell_type": "code",
   "execution_count": 1,
   "metadata": {},
   "outputs": [],
   "source": [
    "# import Standard python Packages\n",
    "import io\n",
    "import pandas as pd                                            # to work on dataframes\n",
    "import numpy as np                                             # To work on arrays and number manipulations\n",
    "import matplotlib.pyplot as plt                                # to plot graphs\n",
    "\n",
    "# import encoders for data encoding\n",
    "from sklearn.preprocessing import LabelEncoder                 # to encode the categorical data\n",
    "\n",
    "# import model selection to train, test and split\n",
    "from sklearn.model_selection import train_test_split           # to split the input data for train and test\n",
    "\n",
    "\n",
    "\n",
    "#importing the ML models\n",
    "from sklearn.linear_model import LinearRegression              # importing regressor model\n",
    "\n",
    "#importing accuracy_score from sklearn.metrics\n",
    "#The accuracy score which helps in calculating the train and test accuracy based on the number of correctly classified data\n",
    "from sklearn.metrics import accuracy_score\n",
    "\n",
    "\n",
    "from sklearn import model_selection\n",
    "from sklearn.linear_model import LogisticRegression\n",
    "import pickle\n",
    "\n",
    "\n",
    "# import library tkinter\n",
    "import tkinter as tk\n",
    "from tkinter import *"
   ]
  },
  {
   "cell_type": "markdown",
   "metadata": {},
   "source": [
    "## Importing Dataset  <a id=\"2\"></a>"
   ]
  },
  {
   "cell_type": "code",
   "execution_count": 2,
   "metadata": {},
   "outputs": [],
   "source": [
    "# import or the read the movies dataset that we created\n",
    "df2 = pd.read_excel('Database.xlsx')"
   ]
  },
  {
   "cell_type": "code",
   "execution_count": 3,
   "metadata": {
    "colab": {
     "base_uri": "https://localhost:8080/",
     "height": 206
    },
    "id": "xDLlRvfWVgV-",
    "outputId": "5c6a7203-8de6-4d47-ffbd-d932af6fcb98"
   },
   "outputs": [
    {
     "data": {
      "text/html": [
       "<div>\n",
       "<style scoped>\n",
       "    .dataframe tbody tr th:only-of-type {\n",
       "        vertical-align: middle;\n",
       "    }\n",
       "\n",
       "    .dataframe tbody tr th {\n",
       "        vertical-align: top;\n",
       "    }\n",
       "\n",
       "    .dataframe thead th {\n",
       "        text-align: right;\n",
       "    }\n",
       "</style>\n",
       "<table border=\"1\" class=\"dataframe\">\n",
       "  <thead>\n",
       "    <tr style=\"text-align: right;\">\n",
       "      <th></th>\n",
       "      <th>Name</th>\n",
       "      <th>Category</th>\n",
       "      <th>Lead Actor(s)</th>\n",
       "      <th>Director</th>\n",
       "      <th>Earnings (M)</th>\n",
       "    </tr>\n",
       "  </thead>\n",
       "  <tbody>\n",
       "    <tr>\n",
       "      <th>0</th>\n",
       "      <td>Avatar</td>\n",
       "      <td>Fantasy</td>\n",
       "      <td>Sam Washington</td>\n",
       "      <td>James Cameron</td>\n",
       "      <td>760.51</td>\n",
       "    </tr>\n",
       "    <tr>\n",
       "      <th>1</th>\n",
       "      <td>Logan</td>\n",
       "      <td>Superhero</td>\n",
       "      <td>Hugh Jackman</td>\n",
       "      <td>James Mangold</td>\n",
       "      <td>226.28</td>\n",
       "    </tr>\n",
       "    <tr>\n",
       "      <th>2</th>\n",
       "      <td>The Suicide Squad</td>\n",
       "      <td>Superhero</td>\n",
       "      <td>John Cena</td>\n",
       "      <td>James Gunn</td>\n",
       "      <td>55.82</td>\n",
       "    </tr>\n",
       "    <tr>\n",
       "      <th>3</th>\n",
       "      <td>Guardians of The Galaxy series</td>\n",
       "      <td>Superhero</td>\n",
       "      <td>Chris Pratt</td>\n",
       "      <td>James Gunn</td>\n",
       "      <td>361.50</td>\n",
       "    </tr>\n",
       "    <tr>\n",
       "      <th>4</th>\n",
       "      <td>Batman Trilogy</td>\n",
       "      <td>Superhero</td>\n",
       "      <td>Christian Bale</td>\n",
       "      <td>Christopher Nolan</td>\n",
       "      <td>396.60</td>\n",
       "    </tr>\n",
       "  </tbody>\n",
       "</table>\n",
       "</div>"
      ],
      "text/plain": [
       "                            Name    Category   Lead Actor(s)  \\\n",
       "0                          Avatar    Fantasy  Sam Washington   \n",
       "1                           Logan  Superhero    Hugh Jackman   \n",
       "2               The Suicide Squad  Superhero       John Cena   \n",
       "3  Guardians of The Galaxy series  Superhero     Chris Pratt   \n",
       "4                  Batman Trilogy  Superhero  Christian Bale   \n",
       "\n",
       "            Director  Earnings (M)  \n",
       "0      James Cameron        760.51  \n",
       "1      James Mangold        226.28  \n",
       "2         James Gunn         55.82  \n",
       "3         James Gunn        361.50  \n",
       "4  Christopher Nolan        396.60  "
      ]
     },
     "execution_count": 3,
     "metadata": {},
     "output_type": "execute_result"
    }
   ],
   "source": [
    "# to scan through the data and understand the filed\n",
    "df2.head()"
   ]
  },
  {
   "cell_type": "code",
   "execution_count": 4,
   "metadata": {
    "colab": {
     "base_uri": "https://localhost:8080/"
    },
    "id": "iP0njeVEHUE0",
    "outputId": "ee45765f-6eda-4daa-91a4-a14fd6e8ff5e"
   },
   "outputs": [
    {
     "name": "stdout",
     "output_type": "stream",
     "text": [
      "<class 'pandas.core.frame.DataFrame'>\n",
      "RangeIndex: 59 entries, 0 to 58\n",
      "Data columns (total 5 columns):\n",
      " #   Column         Non-Null Count  Dtype  \n",
      "---  ------         --------------  -----  \n",
      " 0   Name           59 non-null     object \n",
      " 1   Category       59 non-null     object \n",
      " 2   Lead Actor(s)  59 non-null     object \n",
      " 3   Director       59 non-null     object \n",
      " 4   Earnings (M)   58 non-null     float64\n",
      "dtypes: float64(1), object(4)\n",
      "memory usage: 2.4+ KB\n"
     ]
    }
   ],
   "source": [
    "# to get the overview of the data frame we create, to understand the object data types and Not null counts\n",
    "df2.info()"
   ]
  },
  {
   "cell_type": "code",
   "execution_count": 5,
   "metadata": {
    "id": "9OJKawRPDy66"
   },
   "outputs": [
    {
     "data": {
      "text/plain": [
       "Name             0\n",
       "Category         0\n",
       "Lead Actor(s)    0\n",
       "Director         0\n",
       "Earnings (M)     1\n",
       "dtype: int64"
      ]
     },
     "execution_count": 5,
     "metadata": {},
     "output_type": "execute_result"
    }
   ],
   "source": [
    "# get the null counts in the dataset to understand what cleaning will be required\n",
    "df2.isnull().sum()"
   ]
  },
  {
   "cell_type": "markdown",
   "metadata": {},
   "source": [
    "- As we can see from the above resultset that we have 1 NULL in our dataset for earnings, so we need data cleaning"
   ]
  },
  {
   "cell_type": "code",
   "execution_count": 6,
   "metadata": {
    "colab": {
     "base_uri": "https://localhost:8080/"
    },
    "id": "ajyv0-VCEo76",
    "outputId": "33ba7873-8752-4f20-9f2e-66ad7fbf65fc"
   },
   "outputs": [],
   "source": [
    "#Dropping the null from the dataset\n",
    "df2=df2.dropna()"
   ]
  },
  {
   "cell_type": "markdown",
   "metadata": {},
   "source": [
    "## Exploratory Data Analysis  <a id=\"3\"></a>"
   ]
  },
  {
   "cell_type": "markdown",
   "metadata": {},
   "source": [
    "#### 1. Earnings per Category"
   ]
  },
  {
   "cell_type": "code",
   "execution_count": 7,
   "metadata": {
    "colab": {
     "base_uri": "https://localhost:8080/",
     "height": 206
    },
    "id": "Hsa_ri-LE36u",
    "outputId": "10d22a5d-aff6-435f-ee60-bb8a94cdcf74"
   },
   "outputs": [
    {
     "data": {
      "text/html": [
       "<div>\n",
       "<style scoped>\n",
       "    .dataframe tbody tr th:only-of-type {\n",
       "        vertical-align: middle;\n",
       "    }\n",
       "\n",
       "    .dataframe tbody tr th {\n",
       "        vertical-align: top;\n",
       "    }\n",
       "\n",
       "    .dataframe thead th {\n",
       "        text-align: right;\n",
       "    }\n",
       "</style>\n",
       "<table border=\"1\" class=\"dataframe\">\n",
       "  <thead>\n",
       "    <tr style=\"text-align: right;\">\n",
       "      <th></th>\n",
       "      <th>Category</th>\n",
       "      <th>Earnings (M)</th>\n",
       "    </tr>\n",
       "  </thead>\n",
       "  <tbody>\n",
       "    <tr>\n",
       "      <th>0</th>\n",
       "      <td>Fantasy</td>\n",
       "      <td>760.51</td>\n",
       "    </tr>\n",
       "    <tr>\n",
       "      <th>1</th>\n",
       "      <td>Superhero</td>\n",
       "      <td>226.28</td>\n",
       "    </tr>\n",
       "    <tr>\n",
       "      <th>2</th>\n",
       "      <td>Superhero</td>\n",
       "      <td>55.82</td>\n",
       "    </tr>\n",
       "    <tr>\n",
       "      <th>3</th>\n",
       "      <td>Superhero</td>\n",
       "      <td>361.50</td>\n",
       "    </tr>\n",
       "    <tr>\n",
       "      <th>4</th>\n",
       "      <td>Superhero</td>\n",
       "      <td>396.60</td>\n",
       "    </tr>\n",
       "  </tbody>\n",
       "</table>\n",
       "</div>"
      ],
      "text/plain": [
       "    Category  Earnings (M)\n",
       "0    Fantasy        760.51\n",
       "1  Superhero        226.28\n",
       "2  Superhero         55.82\n",
       "3  Superhero        361.50\n",
       "4  Superhero        396.60"
      ]
     },
     "execution_count": 7,
     "metadata": {},
     "output_type": "execute_result"
    }
   ],
   "source": [
    "# creating a dataframe to aggregate or summarize the category per earnings\n",
    "df3=df2[[\"Category\",\"Earnings (M)\"]]\n",
    "df3.head()"
   ]
  },
  {
   "cell_type": "code",
   "execution_count": 8,
   "metadata": {
    "colab": {
     "base_uri": "https://localhost:8080/"
    },
    "id": "QldFoaAtJ6h4",
    "outputId": "a2a886ee-90b6-4fd3-8e3e-732c9ff5ea54"
   },
   "outputs": [
    {
     "data": {
      "text/html": [
       "<div>\n",
       "<style scoped>\n",
       "    .dataframe tbody tr th:only-of-type {\n",
       "        vertical-align: middle;\n",
       "    }\n",
       "\n",
       "    .dataframe tbody tr th {\n",
       "        vertical-align: top;\n",
       "    }\n",
       "\n",
       "    .dataframe thead th {\n",
       "        text-align: right;\n",
       "    }\n",
       "</style>\n",
       "<table border=\"1\" class=\"dataframe\">\n",
       "  <thead>\n",
       "    <tr style=\"text-align: right;\">\n",
       "      <th></th>\n",
       "      <th>Category</th>\n",
       "      <th>Earnings (M)</th>\n",
       "    </tr>\n",
       "  </thead>\n",
       "  <tbody>\n",
       "    <tr>\n",
       "      <th>4</th>\n",
       "      <td>Fantasy</td>\n",
       "      <td>760.510000</td>\n",
       "    </tr>\n",
       "    <tr>\n",
       "      <th>3</th>\n",
       "      <td>Drama</td>\n",
       "      <td>362.856667</td>\n",
       "    </tr>\n",
       "    <tr>\n",
       "      <th>8</th>\n",
       "      <td>Superhero</td>\n",
       "      <td>313.053333</td>\n",
       "    </tr>\n",
       "    <tr>\n",
       "      <th>7</th>\n",
       "      <td>Sci-Fi</td>\n",
       "      <td>175.058462</td>\n",
       "    </tr>\n",
       "    <tr>\n",
       "      <th>9</th>\n",
       "      <td>Thriller</td>\n",
       "      <td>158.167500</td>\n",
       "    </tr>\n",
       "    <tr>\n",
       "      <th>1</th>\n",
       "      <td>Comedy</td>\n",
       "      <td>148.702500</td>\n",
       "    </tr>\n",
       "    <tr>\n",
       "      <th>0</th>\n",
       "      <td>Adventure</td>\n",
       "      <td>144.175000</td>\n",
       "    </tr>\n",
       "    <tr>\n",
       "      <th>2</th>\n",
       "      <td>Crime</td>\n",
       "      <td>107.697500</td>\n",
       "    </tr>\n",
       "    <tr>\n",
       "      <th>5</th>\n",
       "      <td>Horror</td>\n",
       "      <td>104.836667</td>\n",
       "    </tr>\n",
       "    <tr>\n",
       "      <th>6</th>\n",
       "      <td>Mystery</td>\n",
       "      <td>93.635000</td>\n",
       "    </tr>\n",
       "  </tbody>\n",
       "</table>\n",
       "</div>"
      ],
      "text/plain": [
       "    Category  Earnings (M)\n",
       "4    Fantasy    760.510000\n",
       "3      Drama    362.856667\n",
       "8  Superhero    313.053333\n",
       "7     Sci-Fi    175.058462\n",
       "9   Thriller    158.167500\n",
       "1     Comedy    148.702500\n",
       "0  Adventure    144.175000\n",
       "2      Crime    107.697500\n",
       "5     Horror    104.836667\n",
       "6    Mystery     93.635000"
      ]
     },
     "execution_count": 8,
     "metadata": {},
     "output_type": "execute_result"
    }
   ],
   "source": [
    "# Creating summary data frame\n",
    "# Using as_index=False\n",
    "#dfcatAvg = df3.groupby('Category', as_index =False)['Earnings (M)'].mean()\n",
    "\n",
    "# Using reset_index()\n",
    "dfcatAvg = df3.groupby(['Category'])['Earnings (M)'].mean().reset_index()\n",
    "dfcatAvg = dfcatAvg.sort_values(by='Earnings (M)', ascending=False)\n",
    "dfcatAvg"
   ]
  },
  {
   "cell_type": "code",
   "execution_count": 9,
   "metadata": {
    "colab": {
     "base_uri": "https://localhost:8080/",
     "height": 449
    },
    "id": "cTO2iHRRIIXR",
    "outputId": "2b0aba11-1f9c-4b59-8368-cdc0ac282d33"
   },
   "outputs": [
    {
     "data": {
      "text/plain": [
       "Text(0.5, 1.0, 'Earning per Category')"
      ]
     },
     "execution_count": 9,
     "metadata": {},
     "output_type": "execute_result"
    },
    {
     "data": {
      "image/png": "[encoded data removed]",
      "text/plain": [
       "<Figure size 640x480 with 1 Axes>"
      ]
     },
     "metadata": {},
     "output_type": "display_data"
    }
   ],
   "source": [
    "# plotting the catrgory per earnings\n",
    "ax = dfcatAvg.plot.bar(x='Category', y='Earnings (M)', rot=90)\n",
    "\n",
    "# Add some text for labels, title and custom x-axis tick labels, etc.\n",
    "ax.set_ylabel('Earnings in Millions')\n",
    "ax.set_xlabel('Category')\n",
    "ax.set_title('Earning per Category')"
   ]
  },
  {
   "cell_type": "markdown",
   "metadata": {},
   "source": [
    "- As we can see from the above graph that Fantasy category has the highest earnings, whereas the mystery has the lowest"
   ]
  },
  {
   "cell_type": "markdown",
   "metadata": {},
   "source": [
    "#### 2. Top 10 Directors with highest Earnings"
   ]
  },
  {
   "cell_type": "code",
   "execution_count": 10,
   "metadata": {
    "colab": {
     "base_uri": "https://localhost:8080/",
     "height": 206
    },
    "id": "R8JBpJ0IKsmn",
    "outputId": "cfd325cb-6749-4758-86d1-3bd457b77f9d"
   },
   "outputs": [
    {
     "data": {
      "text/html": [
       "<div>\n",
       "<style scoped>\n",
       "    .dataframe tbody tr th:only-of-type {\n",
       "        vertical-align: middle;\n",
       "    }\n",
       "\n",
       "    .dataframe tbody tr th {\n",
       "        vertical-align: top;\n",
       "    }\n",
       "\n",
       "    .dataframe thead th {\n",
       "        text-align: right;\n",
       "    }\n",
       "</style>\n",
       "<table border=\"1\" class=\"dataframe\">\n",
       "  <thead>\n",
       "    <tr style=\"text-align: right;\">\n",
       "      <th></th>\n",
       "      <th>Director</th>\n",
       "      <th>Earnings (M)</th>\n",
       "    </tr>\n",
       "  </thead>\n",
       "  <tbody>\n",
       "    <tr>\n",
       "      <th>0</th>\n",
       "      <td>James Cameron</td>\n",
       "      <td>760.51</td>\n",
       "    </tr>\n",
       "    <tr>\n",
       "      <th>1</th>\n",
       "      <td>James Mangold</td>\n",
       "      <td>226.28</td>\n",
       "    </tr>\n",
       "    <tr>\n",
       "      <th>2</th>\n",
       "      <td>James Gunn</td>\n",
       "      <td>55.82</td>\n",
       "    </tr>\n",
       "    <tr>\n",
       "      <th>3</th>\n",
       "      <td>James Gunn</td>\n",
       "      <td>361.50</td>\n",
       "    </tr>\n",
       "    <tr>\n",
       "      <th>4</th>\n",
       "      <td>Christopher Nolan</td>\n",
       "      <td>396.60</td>\n",
       "    </tr>\n",
       "  </tbody>\n",
       "</table>\n",
       "</div>"
      ],
      "text/plain": [
       "            Director  Earnings (M)\n",
       "0      James Cameron        760.51\n",
       "1      James Mangold        226.28\n",
       "2         James Gunn         55.82\n",
       "3         James Gunn        361.50\n",
       "4  Christopher Nolan        396.60"
      ]
     },
     "execution_count": 10,
     "metadata": {},
     "output_type": "execute_result"
    }
   ],
   "source": [
    "df4=df2[[\"Director\",\"Earnings (M)\"]]\n",
    "df4.head()"
   ]
  },
  {
   "cell_type": "code",
   "execution_count": 11,
   "metadata": {
    "colab": {
     "base_uri": "https://localhost:8080/",
     "height": 363
    },
    "id": "viMDv4AdKfhe",
    "outputId": "d33bb2c4-c5d5-4866-aec1-77700e9e33e8"
   },
   "outputs": [
    {
     "data": {
      "text/html": [
       "<div>\n",
       "<style scoped>\n",
       "    .dataframe tbody tr th:only-of-type {\n",
       "        vertical-align: middle;\n",
       "    }\n",
       "\n",
       "    .dataframe tbody tr th {\n",
       "        vertical-align: top;\n",
       "    }\n",
       "\n",
       "    .dataframe thead th {\n",
       "        text-align: right;\n",
       "    }\n",
       "</style>\n",
       "<table border=\"1\" class=\"dataframe\">\n",
       "  <thead>\n",
       "    <tr style=\"text-align: right;\">\n",
       "      <th></th>\n",
       "      <th>Director</th>\n",
       "      <th>Earnings (M)</th>\n",
       "    </tr>\n",
       "  </thead>\n",
       "  <tbody>\n",
       "    <tr>\n",
       "      <th>28</th>\n",
       "      <td>Russo Brothers</td>\n",
       "      <td>457.320000</td>\n",
       "    </tr>\n",
       "    <tr>\n",
       "      <th>16</th>\n",
       "      <td>Joseph Kosinski</td>\n",
       "      <td>445.395000</td>\n",
       "    </tr>\n",
       "    <tr>\n",
       "      <th>30</th>\n",
       "      <td>Sam Raimi</td>\n",
       "      <td>371.270000</td>\n",
       "    </tr>\n",
       "    <tr>\n",
       "      <th>36</th>\n",
       "      <td>Tim Miller</td>\n",
       "      <td>363.070000</td>\n",
       "    </tr>\n",
       "    <tr>\n",
       "      <th>15</th>\n",
       "      <td>Jon Watts</td>\n",
       "      <td>362.365000</td>\n",
       "    </tr>\n",
       "    <tr>\n",
       "      <th>23</th>\n",
       "      <td>Peter Jackson</td>\n",
       "      <td>359.670000</td>\n",
       "    </tr>\n",
       "    <tr>\n",
       "      <th>34</th>\n",
       "      <td>Taika Waititi</td>\n",
       "      <td>343.260000</td>\n",
       "    </tr>\n",
       "    <tr>\n",
       "      <th>39</th>\n",
       "      <td>Zack Snyder</td>\n",
       "      <td>325.246667</td>\n",
       "    </tr>\n",
       "    <tr>\n",
       "      <th>5</th>\n",
       "      <td>David Leitch</td>\n",
       "      <td>324.590000</td>\n",
       "    </tr>\n",
       "    <tr>\n",
       "      <th>27</th>\n",
       "      <td>Roland Emmerich</td>\n",
       "      <td>306.170000</td>\n",
       "    </tr>\n",
       "  </tbody>\n",
       "</table>\n",
       "</div>"
      ],
      "text/plain": [
       "           Director  Earnings (M)\n",
       "28   Russo Brothers    457.320000\n",
       "16  Joseph Kosinski    445.395000\n",
       "30        Sam Raimi    371.270000\n",
       "36       Tim Miller    363.070000\n",
       "15        Jon Watts    362.365000\n",
       "23    Peter Jackson    359.670000\n",
       "34    Taika Waititi    343.260000\n",
       "39      Zack Snyder    325.246667\n",
       "5      David Leitch    324.590000\n",
       "27  Roland Emmerich    306.170000"
      ]
     },
     "execution_count": 11,
     "metadata": {},
     "output_type": "execute_result"
    }
   ],
   "source": [
    "# Using reset_index()\n",
    "dfDir= df4.groupby(['Director'])['Earnings (M)'].mean().reset_index()\n",
    "dfDir=dfDir.sort_values(by='Earnings (M)', ascending=False)\n",
    "dfDir=dfDir.head(10)\n",
    "dfDir"
   ]
  },
  {
   "cell_type": "code",
   "execution_count": 12,
   "metadata": {
    "colab": {
     "base_uri": "https://localhost:8080/",
     "height": 449
    },
    "id": "AuxO6Pe8MO-3",
    "outputId": "30c39e8d-b473-4d36-d9f5-778dfb98b4fb"
   },
   "outputs": [
    {
     "data": {
      "text/plain": [
       "Text(0.5, 1.0, 'Top 10 Directors with Earnings in Millions')"
      ]
     },
     "execution_count": 12,
     "metadata": {},
     "output_type": "execute_result"
    },
    {
     "data": {
      "image/png": "[encoded data removed]",
      "text/plain": [
       "<Figure size 640x480 with 1 Axes>"
      ]
     },
     "metadata": {},
     "output_type": "display_data"
    }
   ],
   "source": [
    "ay = dfDir.plot.bar(x='Director', y='Earnings (M)', rot=90)\n",
    "\n",
    "# Add some text for labels, title and custom x-axis tick labels, etc.\n",
    "ay.set_ylabel('Earnings in Millions')\n",
    "ay.set_xlabel('Director')\n",
    "ay.set_title('Top 10 Directors with Earnings in Millions')"
   ]
  },
  {
   "cell_type": "markdown",
   "metadata": {},
   "source": [
    "- We can see from the above graph the top 10 Directors with highest earnings"
   ]
  },
  {
   "cell_type": "markdown",
   "metadata": {},
   "source": [
    "## Label encoding the categorical data/ Data preparation  <a id=\"4\"></a>"
   ]
  },
  {
   "cell_type": "code",
   "execution_count": 13,
   "metadata": {
    "colab": {
     "base_uri": "https://localhost:8080/",
     "height": 225
    },
    "id": "Ua7uDemzMr94",
    "outputId": "589ab137-43fe-44db-ac36-2eb1a1cca9c2"
   },
   "outputs": [
    {
     "name": "stdout",
     "output_type": "stream",
     "text": [
      "(58, 3)\n"
     ]
    },
    {
     "data": {
      "text/html": [
       "<div>\n",
       "<style scoped>\n",
       "    .dataframe tbody tr th:only-of-type {\n",
       "        vertical-align: middle;\n",
       "    }\n",
       "\n",
       "    .dataframe tbody tr th {\n",
       "        vertical-align: top;\n",
       "    }\n",
       "\n",
       "    .dataframe thead th {\n",
       "        text-align: right;\n",
       "    }\n",
       "</style>\n",
       "<table border=\"1\" class=\"dataframe\">\n",
       "  <thead>\n",
       "    <tr style=\"text-align: right;\">\n",
       "      <th></th>\n",
       "      <th>Category</th>\n",
       "      <th>Lead Actor(s)</th>\n",
       "      <th>Director</th>\n",
       "    </tr>\n",
       "  </thead>\n",
       "  <tbody>\n",
       "    <tr>\n",
       "      <th>0</th>\n",
       "      <td>Fantasy</td>\n",
       "      <td>Sam Washington</td>\n",
       "      <td>James Cameron</td>\n",
       "    </tr>\n",
       "    <tr>\n",
       "      <th>1</th>\n",
       "      <td>Superhero</td>\n",
       "      <td>Hugh Jackman</td>\n",
       "      <td>James Mangold</td>\n",
       "    </tr>\n",
       "    <tr>\n",
       "      <th>2</th>\n",
       "      <td>Superhero</td>\n",
       "      <td>John Cena</td>\n",
       "      <td>James Gunn</td>\n",
       "    </tr>\n",
       "    <tr>\n",
       "      <th>3</th>\n",
       "      <td>Superhero</td>\n",
       "      <td>Chris Pratt</td>\n",
       "      <td>James Gunn</td>\n",
       "    </tr>\n",
       "    <tr>\n",
       "      <th>4</th>\n",
       "      <td>Superhero</td>\n",
       "      <td>Christian Bale</td>\n",
       "      <td>Christopher Nolan</td>\n",
       "    </tr>\n",
       "  </tbody>\n",
       "</table>\n",
       "</div>"
      ],
      "text/plain": [
       "    Category   Lead Actor(s)           Director\n",
       "0    Fantasy  Sam Washington      James Cameron\n",
       "1  Superhero    Hugh Jackman      James Mangold\n",
       "2  Superhero       John Cena         James Gunn\n",
       "3  Superhero     Chris Pratt         James Gunn\n",
       "4  Superhero  Christian Bale  Christopher Nolan"
      ]
     },
     "execution_count": 13,
     "metadata": {},
     "output_type": "execute_result"
    }
   ],
   "source": [
    "X_df =  df2[['Category', 'Lead Actor(s)', 'Director']]\n",
    "#Shape of feature data frame\n",
    "print(X_df.shape)\n",
    "\n",
    "#fetching top 5 records of features\n",
    "X_df.head()"
   ]
  },
  {
   "cell_type": "code",
   "execution_count": 14,
   "metadata": {},
   "outputs": [
    {
     "data": {
      "text/plain": [
       "['Category', 'Lead Actor(s)', 'Director']"
      ]
     },
     "execution_count": 14,
     "metadata": {},
     "output_type": "execute_result"
    }
   ],
   "source": [
    "num_col = X_df._get_numeric_data().columns\n",
    "all_col = X_df.columns.tolist()\n",
    "cat_columns = [i for i in all_col if i not in num_col]\n",
    "cat_columns"
   ]
  },
  {
   "cell_type": "code",
   "execution_count": 15,
   "metadata": {
    "colab": {
     "base_uri": "https://localhost:8080/",
     "height": 1000
    },
    "id": "aDE7ctOXVjjU",
    "outputId": "9edcddf4-8e07-479a-8dc7-946dce546733"
   },
   "outputs": [
    {
     "name": "stderr",
     "output_type": "stream",
     "text": [
      "C:\\Users\\neelv\\AppData\\Local\\Temp\\ipykernel_2448\\628140666.py:4: SettingWithCopyWarning: \n",
      "A value is trying to be set on a copy of a slice from a DataFrame.\n",
      "Try using .loc[row_indexer,col_indexer] = value instead\n",
      "\n",
      "See the caveats in the documentation: https://pandas.pydata.org/pandas-docs/stable/user_guide/indexing.html#returning-a-view-versus-a-copy\n",
      "  X_df[i] = encoders[i].fit_transform(X_df[i])\n",
      "C:\\Users\\neelv\\AppData\\Local\\Temp\\ipykernel_2448\\628140666.py:4: SettingWithCopyWarning: \n",
      "A value is trying to be set on a copy of a slice from a DataFrame.\n",
      "Try using .loc[row_indexer,col_indexer] = value instead\n",
      "\n",
      "See the caveats in the documentation: https://pandas.pydata.org/pandas-docs/stable/user_guide/indexing.html#returning-a-view-versus-a-copy\n",
      "  X_df[i] = encoders[i].fit_transform(X_df[i])\n",
      "C:\\Users\\neelv\\AppData\\Local\\Temp\\ipykernel_2448\\628140666.py:4: SettingWithCopyWarning: \n",
      "A value is trying to be set on a copy of a slice from a DataFrame.\n",
      "Try using .loc[row_indexer,col_indexer] = value instead\n",
      "\n",
      "See the caveats in the documentation: https://pandas.pydata.org/pandas-docs/stable/user_guide/indexing.html#returning-a-view-versus-a-copy\n",
      "  X_df[i] = encoders[i].fit_transform(X_df[i])\n"
     ]
    },
    {
     "data": {
      "text/html": [
       "<div>\n",
       "<style scoped>\n",
       "    .dataframe tbody tr th:only-of-type {\n",
       "        vertical-align: middle;\n",
       "    }\n",
       "\n",
       "    .dataframe tbody tr th {\n",
       "        vertical-align: top;\n",
       "    }\n",
       "\n",
       "    .dataframe thead th {\n",
       "        text-align: right;\n",
       "    }\n",
       "</style>\n",
       "<table border=\"1\" class=\"dataframe\">\n",
       "  <thead>\n",
       "    <tr style=\"text-align: right;\">\n",
       "      <th></th>\n",
       "      <th>Category</th>\n",
       "      <th>Lead Actor(s)</th>\n",
       "      <th>Director</th>\n",
       "    </tr>\n",
       "  </thead>\n",
       "  <tbody>\n",
       "    <tr>\n",
       "      <th>0</th>\n",
       "      <td>4</td>\n",
       "      <td>29</td>\n",
       "      <td>10</td>\n",
       "    </tr>\n",
       "    <tr>\n",
       "      <th>1</th>\n",
       "      <td>8</td>\n",
       "      <td>16</td>\n",
       "      <td>12</td>\n",
       "    </tr>\n",
       "    <tr>\n",
       "      <th>2</th>\n",
       "      <td>8</td>\n",
       "      <td>21</td>\n",
       "      <td>11</td>\n",
       "    </tr>\n",
       "    <tr>\n",
       "      <th>3</th>\n",
       "      <td>8</td>\n",
       "      <td>6</td>\n",
       "      <td>11</td>\n",
       "    </tr>\n",
       "    <tr>\n",
       "      <th>4</th>\n",
       "      <td>8</td>\n",
       "      <td>7</td>\n",
       "      <td>3</td>\n",
       "    </tr>\n",
       "  </tbody>\n",
       "</table>\n",
       "</div>"
      ],
      "text/plain": [
       "   Category  Lead Actor(s)  Director\n",
       "0         4             29        10\n",
       "1         8             16        12\n",
       "2         8             21        11\n",
       "3         8              6        11\n",
       "4         8              7         3"
      ]
     },
     "execution_count": 15,
     "metadata": {},
     "output_type": "execute_result"
    }
   ],
   "source": [
    "\n",
    "encoders = {}\n",
    "for i in cat_columns:\n",
    "    encoders[i] = LabelEncoder()\n",
    "    X_df[i] = encoders[i].fit_transform(X_df[i])\n",
    "    \n",
    "X_df.head()"
   ]
  },
  {
   "cell_type": "markdown",
   "metadata": {},
   "source": [
    "## Creating Features and Target DataFrame <a id=\"5\"></a>"
   ]
  },
  {
   "cell_type": "code",
   "execution_count": 16,
   "metadata": {
    "colab": {
     "base_uri": "https://localhost:8080/",
     "height": 225
    },
    "id": "QfZuXytHWtbA",
    "outputId": "8e561644-efba-4636-b857-44c075f6eda2"
   },
   "outputs": [
    {
     "name": "stdout",
     "output_type": "stream",
     "text": [
      "(58, 3)\n"
     ]
    },
    {
     "data": {
      "text/html": [
       "<div>\n",
       "<style scoped>\n",
       "    .dataframe tbody tr th:only-of-type {\n",
       "        vertical-align: middle;\n",
       "    }\n",
       "\n",
       "    .dataframe tbody tr th {\n",
       "        vertical-align: top;\n",
       "    }\n",
       "\n",
       "    .dataframe thead th {\n",
       "        text-align: right;\n",
       "    }\n",
       "</style>\n",
       "<table border=\"1\" class=\"dataframe\">\n",
       "  <thead>\n",
       "    <tr style=\"text-align: right;\">\n",
       "      <th></th>\n",
       "      <th>Category</th>\n",
       "      <th>Lead Actor(s)</th>\n",
       "      <th>Director</th>\n",
       "    </tr>\n",
       "  </thead>\n",
       "  <tbody>\n",
       "    <tr>\n",
       "      <th>0</th>\n",
       "      <td>4</td>\n",
       "      <td>29</td>\n",
       "      <td>10</td>\n",
       "    </tr>\n",
       "    <tr>\n",
       "      <th>1</th>\n",
       "      <td>8</td>\n",
       "      <td>16</td>\n",
       "      <td>12</td>\n",
       "    </tr>\n",
       "    <tr>\n",
       "      <th>2</th>\n",
       "      <td>8</td>\n",
       "      <td>21</td>\n",
       "      <td>11</td>\n",
       "    </tr>\n",
       "    <tr>\n",
       "      <th>3</th>\n",
       "      <td>8</td>\n",
       "      <td>6</td>\n",
       "      <td>11</td>\n",
       "    </tr>\n",
       "    <tr>\n",
       "      <th>4</th>\n",
       "      <td>8</td>\n",
       "      <td>7</td>\n",
       "      <td>3</td>\n",
       "    </tr>\n",
       "  </tbody>\n",
       "</table>\n",
       "</div>"
      ],
      "text/plain": [
       "   Category  Lead Actor(s)  Director\n",
       "0         4             29        10\n",
       "1         8             16        12\n",
       "2         8             21        11\n",
       "3         8              6        11\n",
       "4         8              7         3"
      ]
     },
     "execution_count": 16,
     "metadata": {},
     "output_type": "execute_result"
    }
   ],
   "source": [
    "X_df =  X_df[['Category', 'Lead Actor(s)', 'Director']]\n",
    "#Shape of feature data frame\n",
    "print(X_df.shape)\n",
    "\n",
    "#fetching top 5 records of features\n",
    "X_df.head()"
   ]
  },
  {
   "cell_type": "code",
   "execution_count": 17,
   "metadata": {
    "colab": {
     "base_uri": "https://localhost:8080/",
     "height": 225
    },
    "id": "41H7o5WKQwCk",
    "outputId": "e2125e8a-2196-46b2-9f9c-3763d3469dfe"
   },
   "outputs": [
    {
     "name": "stdout",
     "output_type": "stream",
     "text": [
      "(58, 1)\n"
     ]
    },
    {
     "data": {
      "text/html": [
       "<div>\n",
       "<style scoped>\n",
       "    .dataframe tbody tr th:only-of-type {\n",
       "        vertical-align: middle;\n",
       "    }\n",
       "\n",
       "    .dataframe tbody tr th {\n",
       "        vertical-align: top;\n",
       "    }\n",
       "\n",
       "    .dataframe thead th {\n",
       "        text-align: right;\n",
       "    }\n",
       "</style>\n",
       "<table border=\"1\" class=\"dataframe\">\n",
       "  <thead>\n",
       "    <tr style=\"text-align: right;\">\n",
       "      <th></th>\n",
       "      <th>Earnings (M)</th>\n",
       "    </tr>\n",
       "  </thead>\n",
       "  <tbody>\n",
       "    <tr>\n",
       "      <th>0</th>\n",
       "      <td>760.51</td>\n",
       "    </tr>\n",
       "    <tr>\n",
       "      <th>1</th>\n",
       "      <td>226.28</td>\n",
       "    </tr>\n",
       "    <tr>\n",
       "      <th>2</th>\n",
       "      <td>55.82</td>\n",
       "    </tr>\n",
       "    <tr>\n",
       "      <th>3</th>\n",
       "      <td>361.50</td>\n",
       "    </tr>\n",
       "    <tr>\n",
       "      <th>4</th>\n",
       "      <td>396.60</td>\n",
       "    </tr>\n",
       "  </tbody>\n",
       "</table>\n",
       "</div>"
      ],
      "text/plain": [
       "   Earnings (M)\n",
       "0        760.51\n",
       "1        226.28\n",
       "2         55.82\n",
       "3        361.50\n",
       "4        396.60"
      ]
     },
     "execution_count": 17,
     "metadata": {},
     "output_type": "execute_result"
    }
   ],
   "source": [
    "Y_df= df2[['Earnings (M)']]\n",
    "print(Y_df.shape)\n",
    "Y_df.head()"
   ]
  },
  {
   "cell_type": "markdown",
   "metadata": {},
   "source": [
    "## Train Test split of the Dataset <a id=\"6\"></a>"
   ]
  },
  {
   "cell_type": "code",
   "execution_count": 18,
   "metadata": {
    "id": "zaAwxFBFRF7H"
   },
   "outputs": [],
   "source": [
    "#using train test split function to divide the data set into 80-20 portions\n",
    "#80 for training and 20 for testing\n",
    "\n",
    "X_train,X_test, y_train, y_test = train_test_split(X_df,Y_df,test_size=0.20,random_state = 0)"
   ]
  },
  {
   "cell_type": "code",
   "execution_count": 19,
   "metadata": {
    "colab": {
     "base_uri": "https://localhost:8080/"
    },
    "id": "8XjPWDvxRxtI",
    "outputId": "af1ec0c3-33c1-491f-e84d-656746dd5171"
   },
   "outputs": [
    {
     "name": "stdout",
     "output_type": "stream",
     "text": [
      "Training data percentage is 79.31 %\n",
      "Test data percentage is 20.69 %\n",
      "\n",
      "\n",
      "Features train shape(46, 3)\n",
      "Features test shape(12, 3)\n",
      "\n",
      "\n",
      "Target train shape(46, 1)\n",
      "Target test shape(12, 1)\n"
     ]
    }
   ],
   "source": [
    "print(\"Training data percentage is {:.2f}\".format(len(X_train)/len(df2)*100)+\" %\")\n",
    "#Test accuracy percentage\n",
    "print(\"Test data percentage is {:.2f}\".format((len(X_test)/len(df2))*100)+\" %\")\n",
    "\n",
    "print(\"\\n\")\n",
    "\n",
    "#Tain and test feature dataset shapes\n",
    "print(\"Features train shape\"+str(X_train.shape))\n",
    "print(\"Features test shape\"+str(X_test.shape))\n",
    "\n",
    "print(\"\\n\")\n",
    "\n",
    "#Tain and test target dataset shapes\n",
    "print(\"Target train shape\"+str(y_train.shape))\n",
    "print(\"Target test shape\"+str(y_test.shape))"
   ]
  },
  {
   "cell_type": "markdown",
   "metadata": {},
   "source": [
    "## Building the model <a id=\"7\"></a>"
   ]
  },
  {
   "cell_type": "markdown",
   "metadata": {},
   "source": [
    "### Linear Regression Model <a id=\"7.1\"></a>"
   ]
  },
  {
   "cell_type": "code",
   "execution_count": 20,
   "metadata": {
    "colab": {
     "base_uri": "https://localhost:8080/",
     "height": 75
    },
    "id": "W1GfzZqxR_Bm",
    "outputId": "7ab06531-8d36-43a4-edb5-6fc755a949bd"
   },
   "outputs": [
    {
     "data": {
      "text/html": [
       "<style>#sk-container-id-1 {color: black;background-color: white;}#sk-container-id-1 pre{padding: 0;}#sk-container-id-1 div.sk-toggleable {background-color: white;}#sk-container-id-1 label.sk-toggleable__label {cursor: pointer;display: block;width: 100%;margin-bottom: 0;padding: 0.3em;box-sizing: border-box;text-align: center;}#sk-container-id-1 label.sk-toggleable__label-arrow:before {content: \"▸\";float: left;margin-right: 0.25em;color: #696969;}#sk-container-id-1 label.sk-toggleable__label-arrow:hover:before {color: black;}#sk-container-id-1 div.sk-estimator:hover label.sk-toggleable__label-arrow:before {color: black;}#sk-container-id-1 div.sk-toggleable__content {max-height: 0;max-width: 0;overflow: hidden;text-align: left;background-color: #f0f8ff;}#sk-container-id-1 div.sk-toggleable__content pre {margin: 0.2em;color: black;border-radius: 0.25em;background-color: #f0f8ff;}#sk-container-id-1 input.sk-toggleable__control:checked~div.sk-toggleable__content {max-height: 200px;max-width: 100%;overflow: auto;}#sk-container-id-1 input.sk-toggleable__control:checked~label.sk-toggleable__label-arrow:before {content: \"▾\";}#sk-container-id-1 div.sk-estimator input.sk-toggleable__control:checked~label.sk-toggleable__label {background-color: #d4ebff;}#sk-container-id-1 div.sk-label input.sk-toggleable__control:checked~label.sk-toggleable__label {background-color: #d4ebff;}#sk-container-id-1 input.sk-hidden--visually {border: 0;clip: rect(1px 1px 1px 1px);clip: rect(1px, 1px, 1px, 1px);height: 1px;margin: -1px;overflow: hidden;padding: 0;position: absolute;width: 1px;}#sk-container-id-1 div.sk-estimator {font-family: monospace;background-color: #f0f8ff;border: 1px dotted black;border-radius: 0.25em;box-sizing: border-box;margin-bottom: 0.5em;}#sk-container-id-1 div.sk-estimator:hover {background-color: #d4ebff;}#sk-container-id-1 div.sk-parallel-item::after {content: \"\";width: 100%;border-bottom: 1px solid gray;flex-grow: 1;}#sk-container-id-1 div.sk-label:hover label.sk-toggleable__label {background-color: #d4ebff;}#sk-container-id-1 div.sk-serial::before {content: \"\";position: absolute;border-left: 1px solid gray;box-sizing: border-box;top: 0;bottom: 0;left: 50%;z-index: 0;}#sk-container-id-1 div.sk-serial {display: flex;flex-direction: column;align-items: center;background-color: white;padding-right: 0.2em;padding-left: 0.2em;position: relative;}#sk-container-id-1 div.sk-item {position: relative;z-index: 1;}#sk-container-id-1 div.sk-parallel {display: flex;align-items: stretch;justify-content: center;background-color: white;position: relative;}#sk-container-id-1 div.sk-item::before, #sk-container-id-1 div.sk-parallel-item::before {content: \"\";position: absolute;border-left: 1px solid gray;box-sizing: border-box;top: 0;bottom: 0;left: 50%;z-index: -1;}#sk-container-id-1 div.sk-parallel-item {display: flex;flex-direction: column;z-index: 1;position: relative;background-color: white;}#sk-container-id-1 div.sk-parallel-item:first-child::after {align-self: flex-end;width: 50%;}#sk-container-id-1 div.sk-parallel-item:last-child::after {align-self: flex-start;width: 50%;}#sk-container-id-1 div.sk-parallel-item:only-child::after {width: 0;}#sk-container-id-1 div.sk-dashed-wrapped {border: 1px dashed gray;margin: 0 0.4em 0.5em 0.4em;box-sizing: border-box;padding-bottom: 0.4em;background-color: white;}#sk-container-id-1 div.sk-label label {font-family: monospace;font-weight: bold;display: inline-block;line-height: 1.2em;}#sk-container-id-1 div.sk-label-container {text-align: center;}#sk-container-id-1 div.sk-container {/* jupyter's `normalize.less` sets `[hidden] { display: none; }` but bootstrap.min.css set `[hidden] { display: none !important; }` so we also need the `!important` here to be able to override the default hidden behavior on the sphinx rendered scikit-learn.org. See: https://github.com/scikit-learn/scikit-learn/issues/21755 */display: inline-block !important;position: relative;}#sk-container-id-1 div.sk-text-repr-fallback {display: none;}</style><div id=\"sk-container-id-1\" class=\"sk-top-container\"><div class=\"sk-text-repr-fallback\"><pre>LinearRegression()</pre><b>In a Jupyter environment, please rerun this cell to show the HTML representation or trust the notebook. <br />On GitHub, the HTML representation is unable to render, please try loading this page with nbviewer.org.</b></div><div class=\"sk-container\" hidden><div class=\"sk-item\"><div class=\"sk-estimator sk-toggleable\"><input class=\"sk-toggleable__control sk-hidden--visually\" id=\"sk-estimator-id-1\" type=\"checkbox\" checked><label for=\"sk-estimator-id-1\" class=\"sk-toggleable__label sk-toggleable__label-arrow\">LinearRegression</label><div class=\"sk-toggleable__content\"><pre>LinearRegression()</pre></div></div></div></div></div>"
      ],
      "text/plain": [
       "LinearRegression()"
      ]
     },
     "execution_count": 20,
     "metadata": {},
     "output_type": "execute_result"
    }
   ],
   "source": [
    "# Building the linear regression model\n",
    "linreg= LinearRegression()\n",
    "linreg.fit(X_train, y_train)"
   ]
  },
  {
   "cell_type": "markdown",
   "metadata": {},
   "source": [
    "## Evaluating Model <a id=\"8\"></a>"
   ]
  },
  {
   "cell_type": "markdown",
   "metadata": {},
   "source": [
    "## Predictions and the co-efficients and intercepts of model"
   ]
  },
  {
   "cell_type": "code",
   "execution_count": 21,
   "metadata": {
    "colab": {
     "base_uri": "https://localhost:8080/"
    },
    "id": "MxDvp6ntY41L",
    "outputId": "f2838212-29d7-4f6e-b458-86cae3723e32"
   },
   "outputs": [
    {
     "name": "stdout",
     "output_type": "stream",
     "text": [
      "Predictions: [[159.98487681]\n",
      " [229.65178267]\n",
      " [154.87330141]\n",
      " [170.11725904]\n",
      " [271.43441698]\n",
      " [242.943566  ]\n",
      " [193.70330324]\n",
      " [220.88944331]\n",
      " [205.50257219]\n",
      " [220.88944331]\n",
      " [208.66992156]\n",
      " [264.68548767]]\n",
      "Coefficients:\n",
      " [[12.52115511  1.66303463  1.37389496]]\n",
      "Intercept:\n",
      " [92.73775344]\n"
     ]
    }
   ],
   "source": [
    "y_predictions = linreg.predict(X_test)\n",
    "print('Predictions:', y_predictions)\n",
    "# get the coefficients and intercept\n",
    "print(\"Coefficients:\\n\", linreg.coef_)\n",
    "print('Intercept:\\n', linreg.intercept_)"
   ]
  },
  {
   "cell_type": "code",
   "execution_count": 22,
   "metadata": {},
   "outputs": [
    {
     "name": "stdout",
     "output_type": "stream",
     "text": [
      "Train accuracy of Logistic regression 6.02%\n"
     ]
    }
   ],
   "source": [
    "#calculating train accuracy for without scaled data for logistic regression\n",
    "train_lr_accuracy = linreg.score(X_train,y_train)\n",
    "print(\"Train accuracy of Logistic regression {:.2f}\".format(train_lr_accuracy*100)+\"%\")\n"
   ]
  },
  {
   "cell_type": "markdown",
   "metadata": {},
   "source": [
    " ### Saving the model and testing prediction"
   ]
  },
  {
   "cell_type": "code",
   "execution_count": 23,
   "metadata": {},
   "outputs": [],
   "source": [
    "filename = 'linreg.sav'\n",
    "pickle.dump(linreg, open(filename, 'wb'))"
   ]
  },
  {
   "cell_type": "markdown",
   "metadata": {},
   "source": [
    "## Creating function for UI <a id=\"9\"></a>"
   ]
  },
  {
   "cell_type": "markdown",
   "metadata": {},
   "source": [
    "#### Creating function to call from UI"
   ]
  },
  {
   "cell_type": "code",
   "execution_count": 24,
   "metadata": {},
   "outputs": [],
   "source": [
    "#load model\n",
    "loaded_model = pickle.load(open(filename, 'rb'))\n",
    "\n",
    "#making function\n",
    "def predict():\n",
    "    Category = inp1.get()\n",
    "    Actor = inp2.get()\n",
    "    Director = inp3.get()\n",
    "\n",
    "    try:\n",
    "        Category = str(Category)\n",
    "        Actor = str(Actor)\n",
    "        Director = str(Director)\n",
    "        \n",
    "        #creating data from of user input\n",
    "        input_df=pd.DataFrame([[Category,Actor,Director]],columns=['Category', 'Lead Actor(s)', 'Director'])\n",
    "        #input_df\n",
    "        \n",
    "        for i in cat_columns:\n",
    "            input_df[i] = encoders[i].transform(input_df[i])\n",
    "        \n",
    "        #Predict_label['text'] = [*predict_model(loaded_model, data=results)['Label'].values][0]\n",
    "        results = loaded_model.predict(input_df)[0][0]\n",
    "        Predict_label['text'] = \"Earnings in Millions: \" + str(round(results,2))\n",
    "        \n",
    "    except ValueError:\n",
    "        messagebox.showinfo(\"Alert Message\", \"Data not entered correctly !\") # this code to make alert messages when we wrong input data"
   ]
  },
  {
   "cell_type": "markdown",
   "metadata": {},
   "source": [
    "### Creating tkinter UI <a id=\"10\"></a>"
   ]
  },
  {
   "cell_type": "code",
   "execution_count": 25,
   "metadata": {},
   "outputs": [
    {
     "name": "stderr",
     "output_type": "stream",
     "text": [
      "Exception in Tkinter callback\n",
      "Traceback (most recent call last):\n",
      "  File \"C:\\Users\\neelv\\anaconda3\\lib\\site-packages\\sklearn\\utils\\_encode.py\", line 224, in _encode\n",
      "    return _map_to_integer(values, uniques)\n",
      "  File \"C:\\Users\\neelv\\anaconda3\\lib\\site-packages\\sklearn\\utils\\_encode.py\", line 164, in _map_to_integer\n",
      "    return np.array([table[v] for v in values])\n",
      "  File \"C:\\Users\\neelv\\anaconda3\\lib\\site-packages\\sklearn\\utils\\_encode.py\", line 164, in <listcomp>\n",
      "    return np.array([table[v] for v in values])\n",
      "  File \"C:\\Users\\neelv\\anaconda3\\lib\\site-packages\\sklearn\\utils\\_encode.py\", line 158, in __missing__\n",
      "    raise KeyError(key)\n",
      "KeyError: 'Hugh Jackmann'\n",
      "\n",
      "During handling of the above exception, another exception occurred:\n",
      "\n",
      "Traceback (most recent call last):\n",
      "  File \"C:\\Users\\neelv\\AppData\\Local\\Temp\\ipykernel_2448\\4276333981.py\", line 20, in predict\n",
      "    input_df[i] = encoders[i].transform(input_df[i])\n",
      "  File \"C:\\Users\\neelv\\anaconda3\\lib\\site-packages\\sklearn\\utils\\_set_output.py\", line 142, in wrapped\n",
      "    data_to_wrap = f(self, X, *args, **kwargs)\n",
      "  File \"C:\\Users\\neelv\\anaconda3\\lib\\site-packages\\sklearn\\preprocessing\\_label.py\", line 139, in transform\n",
      "    return _encode(y, uniques=self.classes_)\n",
      "  File \"C:\\Users\\neelv\\anaconda3\\lib\\site-packages\\sklearn\\utils\\_encode.py\", line 226, in _encode\n",
      "    raise ValueError(f\"y contains previously unseen labels: {str(e)}\")\n",
      "ValueError: y contains previously unseen labels: 'Hugh Jackmann'\n",
      "\n",
      "During handling of the above exception, another exception occurred:\n",
      "\n",
      "Traceback (most recent call last):\n",
      "  File \"C:\\Users\\neelv\\anaconda3\\lib\\tkinter\\__init__.py\", line 1921, in __call__\n",
      "    return self.func(*args)\n",
      "  File \"C:\\Users\\neelv\\AppData\\Local\\Temp\\ipykernel_2448\\4276333981.py\", line 27, in predict\n",
      "    messagebox.showinfo(\"Alert Message\", \"Data not entered correctly !\") # this code to make alert messages when we wrong input data\n",
      "NameError: name 'messagebox' is not defined\n",
      "Exception in Tkinter callback\n",
      "Traceback (most recent call last):\n",
      "  File \"C:\\Users\\neelv\\anaconda3\\lib\\site-packages\\sklearn\\utils\\_encode.py\", line 224, in _encode\n",
      "    return _map_to_integer(values, uniques)\n",
      "  File \"C:\\Users\\neelv\\anaconda3\\lib\\site-packages\\sklearn\\utils\\_encode.py\", line 164, in _map_to_integer\n",
      "    return np.array([table[v] for v in values])\n",
      "  File \"C:\\Users\\neelv\\anaconda3\\lib\\site-packages\\sklearn\\utils\\_encode.py\", line 164, in <listcomp>\n",
      "    return np.array([table[v] for v in values])\n",
      "  File \"C:\\Users\\neelv\\anaconda3\\lib\\site-packages\\sklearn\\utils\\_encode.py\", line 158, in __missing__\n",
      "    raise KeyError(key)\n",
      "KeyError: 'Hugh Jackmann'\n",
      "\n",
      "During handling of the above exception, another exception occurred:\n",
      "\n",
      "Traceback (most recent call last):\n",
      "  File \"C:\\Users\\neelv\\AppData\\Local\\Temp\\ipykernel_2448\\4276333981.py\", line 20, in predict\n",
      "    input_df[i] = encoders[i].transform(input_df[i])\n",
      "  File \"C:\\Users\\neelv\\anaconda3\\lib\\site-packages\\sklearn\\utils\\_set_output.py\", line 142, in wrapped\n",
      "    data_to_wrap = f(self, X, *args, **kwargs)\n",
      "  File \"C:\\Users\\neelv\\anaconda3\\lib\\site-packages\\sklearn\\preprocessing\\_label.py\", line 139, in transform\n",
      "    return _encode(y, uniques=self.classes_)\n",
      "  File \"C:\\Users\\neelv\\anaconda3\\lib\\site-packages\\sklearn\\utils\\_encode.py\", line 226, in _encode\n",
      "    raise ValueError(f\"y contains previously unseen labels: {str(e)}\")\n",
      "ValueError: y contains previously unseen labels: 'Hugh Jackmann'\n",
      "\n",
      "During handling of the above exception, another exception occurred:\n",
      "\n",
      "Traceback (most recent call last):\n",
      "  File \"C:\\Users\\neelv\\anaconda3\\lib\\tkinter\\__init__.py\", line 1921, in __call__\n",
      "    return self.func(*args)\n",
      "  File \"C:\\Users\\neelv\\AppData\\Local\\Temp\\ipykernel_2448\\4276333981.py\", line 27, in predict\n",
      "    messagebox.showinfo(\"Alert Message\", \"Data not entered correctly !\") # this code to make alert messages when we wrong input data\n",
      "NameError: name 'messagebox' is not defined\n",
      "Exception in Tkinter callback\n",
      "Traceback (most recent call last):\n",
      "  File \"C:\\Users\\neelv\\anaconda3\\lib\\site-packages\\sklearn\\utils\\_encode.py\", line 224, in _encode\n",
      "    return _map_to_integer(values, uniques)\n",
      "  File \"C:\\Users\\neelv\\anaconda3\\lib\\site-packages\\sklearn\\utils\\_encode.py\", line 164, in _map_to_integer\n",
      "    return np.array([table[v] for v in values])\n",
      "  File \"C:\\Users\\neelv\\anaconda3\\lib\\site-packages\\sklearn\\utils\\_encode.py\", line 164, in <listcomp>\n",
      "    return np.array([table[v] for v in values])\n",
      "  File \"C:\\Users\\neelv\\anaconda3\\lib\\site-packages\\sklearn\\utils\\_encode.py\", line 158, in __missing__\n",
      "    raise KeyError(key)\n",
      "KeyError: 'Hugh Jackmann'\n",
      "\n",
      "During handling of the above exception, another exception occurred:\n",
      "\n",
      "Traceback (most recent call last):\n",
      "  File \"C:\\Users\\neelv\\AppData\\Local\\Temp\\ipykernel_2448\\4276333981.py\", line 20, in predict\n",
      "    input_df[i] = encoders[i].transform(input_df[i])\n",
      "  File \"C:\\Users\\neelv\\anaconda3\\lib\\site-packages\\sklearn\\utils\\_set_output.py\", line 142, in wrapped\n",
      "    data_to_wrap = f(self, X, *args, **kwargs)\n",
      "  File \"C:\\Users\\neelv\\anaconda3\\lib\\site-packages\\sklearn\\preprocessing\\_label.py\", line 139, in transform\n",
      "    return _encode(y, uniques=self.classes_)\n",
      "  File \"C:\\Users\\neelv\\anaconda3\\lib\\site-packages\\sklearn\\utils\\_encode.py\", line 226, in _encode\n",
      "    raise ValueError(f\"y contains previously unseen labels: {str(e)}\")\n",
      "ValueError: y contains previously unseen labels: 'Hugh Jackmann'\n",
      "\n",
      "During handling of the above exception, another exception occurred:\n",
      "\n",
      "Traceback (most recent call last):\n",
      "  File \"C:\\Users\\neelv\\anaconda3\\lib\\tkinter\\__init__.py\", line 1921, in __call__\n",
      "    return self.func(*args)\n",
      "  File \"C:\\Users\\neelv\\AppData\\Local\\Temp\\ipykernel_2448\\4276333981.py\", line 27, in predict\n",
      "    messagebox.showinfo(\"Alert Message\", \"Data not entered correctly !\") # this code to make alert messages when we wrong input data\n",
      "NameError: name 'messagebox' is not defined\n",
      "Exception in Tkinter callback\n",
      "Traceback (most recent call last):\n",
      "  File \"C:\\Users\\neelv\\anaconda3\\lib\\site-packages\\sklearn\\utils\\_encode.py\", line 224, in _encode\n",
      "    return _map_to_integer(values, uniques)\n",
      "  File \"C:\\Users\\neelv\\anaconda3\\lib\\site-packages\\sklearn\\utils\\_encode.py\", line 164, in _map_to_integer\n",
      "    return np.array([table[v] for v in values])\n",
      "  File \"C:\\Users\\neelv\\anaconda3\\lib\\site-packages\\sklearn\\utils\\_encode.py\", line 164, in <listcomp>\n",
      "    return np.array([table[v] for v in values])\n",
      "  File \"C:\\Users\\neelv\\anaconda3\\lib\\site-packages\\sklearn\\utils\\_encode.py\", line 158, in __missing__\n",
      "    raise KeyError(key)\n",
      "KeyError: 'Hugh Jackmann'\n",
      "\n",
      "During handling of the above exception, another exception occurred:\n",
      "\n",
      "Traceback (most recent call last):\n",
      "  File \"C:\\Users\\neelv\\AppData\\Local\\Temp\\ipykernel_2448\\4276333981.py\", line 20, in predict\n",
      "    input_df[i] = encoders[i].transform(input_df[i])\n",
      "  File \"C:\\Users\\neelv\\anaconda3\\lib\\site-packages\\sklearn\\utils\\_set_output.py\", line 142, in wrapped\n",
      "    data_to_wrap = f(self, X, *args, **kwargs)\n",
      "  File \"C:\\Users\\neelv\\anaconda3\\lib\\site-packages\\sklearn\\preprocessing\\_label.py\", line 139, in transform\n",
      "    return _encode(y, uniques=self.classes_)\n",
      "  File \"C:\\Users\\neelv\\anaconda3\\lib\\site-packages\\sklearn\\utils\\_encode.py\", line 226, in _encode\n",
      "    raise ValueError(f\"y contains previously unseen labels: {str(e)}\")\n",
      "ValueError: y contains previously unseen labels: 'Hugh Jackmann'\n",
      "\n",
      "During handling of the above exception, another exception occurred:\n",
      "\n",
      "Traceback (most recent call last):\n",
      "  File \"C:\\Users\\neelv\\anaconda3\\lib\\tkinter\\__init__.py\", line 1921, in __call__\n",
      "    return self.func(*args)\n",
      "  File \"C:\\Users\\neelv\\AppData\\Local\\Temp\\ipykernel_2448\\4276333981.py\", line 27, in predict\n",
      "    messagebox.showinfo(\"Alert Message\", \"Data not entered correctly !\") # this code to make alert messages when we wrong input data\n",
      "NameError: name 'messagebox' is not defined\n",
      "Exception in Tkinter callback\n",
      "Traceback (most recent call last):\n",
      "  File \"C:\\Users\\neelv\\anaconda3\\lib\\site-packages\\sklearn\\utils\\_encode.py\", line 224, in _encode\n",
      "    return _map_to_integer(values, uniques)\n",
      "  File \"C:\\Users\\neelv\\anaconda3\\lib\\site-packages\\sklearn\\utils\\_encode.py\", line 164, in _map_to_integer\n",
      "    return np.array([table[v] for v in values])\n",
      "  File \"C:\\Users\\neelv\\anaconda3\\lib\\site-packages\\sklearn\\utils\\_encode.py\", line 164, in <listcomp>\n",
      "    return np.array([table[v] for v in values])\n",
      "  File \"C:\\Users\\neelv\\anaconda3\\lib\\site-packages\\sklearn\\utils\\_encode.py\", line 158, in __missing__\n",
      "    raise KeyError(key)\n",
      "KeyError: 'Hugh Jackmann'\n",
      "\n",
      "During handling of the above exception, another exception occurred:\n",
      "\n",
      "Traceback (most recent call last):\n",
      "  File \"C:\\Users\\neelv\\AppData\\Local\\Temp\\ipykernel_2448\\4276333981.py\", line 20, in predict\n",
      "    input_df[i] = encoders[i].transform(input_df[i])\n",
      "  File \"C:\\Users\\neelv\\anaconda3\\lib\\site-packages\\sklearn\\utils\\_set_output.py\", line 142, in wrapped\n",
      "    data_to_wrap = f(self, X, *args, **kwargs)\n",
      "  File \"C:\\Users\\neelv\\anaconda3\\lib\\site-packages\\sklearn\\preprocessing\\_label.py\", line 139, in transform\n",
      "    return _encode(y, uniques=self.classes_)\n",
      "  File \"C:\\Users\\neelv\\anaconda3\\lib\\site-packages\\sklearn\\utils\\_encode.py\", line 226, in _encode\n",
      "    raise ValueError(f\"y contains previously unseen labels: {str(e)}\")\n",
      "ValueError: y contains previously unseen labels: 'Hugh Jackmann'\n",
      "\n",
      "During handling of the above exception, another exception occurred:\n",
      "\n",
      "Traceback (most recent call last):\n",
      "  File \"C:\\Users\\neelv\\anaconda3\\lib\\tkinter\\__init__.py\", line 1921, in __call__\n",
      "    return self.func(*args)\n",
      "  File \"C:\\Users\\neelv\\AppData\\Local\\Temp\\ipykernel_2448\\4276333981.py\", line 27, in predict\n",
      "    messagebox.showinfo(\"Alert Message\", \"Data not entered correctly !\") # this code to make alert messages when we wrong input data\n",
      "NameError: name 'messagebox' is not defined\n",
      "Exception in Tkinter callback\n",
      "Traceback (most recent call last):\n",
      "  File \"C:\\Users\\neelv\\anaconda3\\lib\\site-packages\\sklearn\\utils\\_encode.py\", line 224, in _encode\n",
      "    return _map_to_integer(values, uniques)\n",
      "  File \"C:\\Users\\neelv\\anaconda3\\lib\\site-packages\\sklearn\\utils\\_encode.py\", line 164, in _map_to_integer\n",
      "    return np.array([table[v] for v in values])\n",
      "  File \"C:\\Users\\neelv\\anaconda3\\lib\\site-packages\\sklearn\\utils\\_encode.py\", line 164, in <listcomp>\n",
      "    return np.array([table[v] for v in values])\n",
      "  File \"C:\\Users\\neelv\\anaconda3\\lib\\site-packages\\sklearn\\utils\\_encode.py\", line 158, in __missing__\n",
      "    raise KeyError(key)\n",
      "KeyError: 'Hugh Jackmann'\n",
      "\n",
      "During handling of the above exception, another exception occurred:\n",
      "\n",
      "Traceback (most recent call last):\n",
      "  File \"C:\\Users\\neelv\\AppData\\Local\\Temp\\ipykernel_2448\\4276333981.py\", line 20, in predict\n",
      "    input_df[i] = encoders[i].transform(input_df[i])\n",
      "  File \"C:\\Users\\neelv\\anaconda3\\lib\\site-packages\\sklearn\\utils\\_set_output.py\", line 142, in wrapped\n",
      "    data_to_wrap = f(self, X, *args, **kwargs)\n",
      "  File \"C:\\Users\\neelv\\anaconda3\\lib\\site-packages\\sklearn\\preprocessing\\_label.py\", line 139, in transform\n",
      "    return _encode(y, uniques=self.classes_)\n",
      "  File \"C:\\Users\\neelv\\anaconda3\\lib\\site-packages\\sklearn\\utils\\_encode.py\", line 226, in _encode\n",
      "    raise ValueError(f\"y contains previously unseen labels: {str(e)}\")\n",
      "ValueError: y contains previously unseen labels: 'Hugh Jackmann'\n",
      "\n",
      "During handling of the above exception, another exception occurred:\n",
      "\n",
      "Traceback (most recent call last):\n",
      "  File \"C:\\Users\\neelv\\anaconda3\\lib\\tkinter\\__init__.py\", line 1921, in __call__\n",
      "    return self.func(*args)\n",
      "  File \"C:\\Users\\neelv\\AppData\\Local\\Temp\\ipykernel_2448\\4276333981.py\", line 27, in predict\n",
      "    messagebox.showinfo(\"Alert Message\", \"Data not entered correctly !\") # this code to make alert messages when we wrong input data\n",
      "NameError: name 'messagebox' is not defined\n",
      "Exception in Tkinter callback\n",
      "Traceback (most recent call last):\n",
      "  File \"C:\\Users\\neelv\\anaconda3\\lib\\site-packages\\sklearn\\utils\\_encode.py\", line 224, in _encode\n",
      "    return _map_to_integer(values, uniques)\n",
      "  File \"C:\\Users\\neelv\\anaconda3\\lib\\site-packages\\sklearn\\utils\\_encode.py\", line 164, in _map_to_integer\n",
      "    return np.array([table[v] for v in values])\n",
      "  File \"C:\\Users\\neelv\\anaconda3\\lib\\site-packages\\sklearn\\utils\\_encode.py\", line 164, in <listcomp>\n",
      "    return np.array([table[v] for v in values])\n",
      "  File \"C:\\Users\\neelv\\anaconda3\\lib\\site-packages\\sklearn\\utils\\_encode.py\", line 158, in __missing__\n",
      "    raise KeyError(key)\n",
      "KeyError: 'Hugh Jackmann'\n",
      "\n",
      "During handling of the above exception, another exception occurred:\n",
      "\n",
      "Traceback (most recent call last):\n",
      "  File \"C:\\Users\\neelv\\AppData\\Local\\Temp\\ipykernel_2448\\4276333981.py\", line 20, in predict\n",
      "    input_df[i] = encoders[i].transform(input_df[i])\n",
      "  File \"C:\\Users\\neelv\\anaconda3\\lib\\site-packages\\sklearn\\utils\\_set_output.py\", line 142, in wrapped\n",
      "    data_to_wrap = f(self, X, *args, **kwargs)\n",
      "  File \"C:\\Users\\neelv\\anaconda3\\lib\\site-packages\\sklearn\\preprocessing\\_label.py\", line 139, in transform\n",
      "    return _encode(y, uniques=self.classes_)\n",
      "  File \"C:\\Users\\neelv\\anaconda3\\lib\\site-packages\\sklearn\\utils\\_encode.py\", line 226, in _encode\n",
      "    raise ValueError(f\"y contains previously unseen labels: {str(e)}\")\n",
      "ValueError: y contains previously unseen labels: 'Hugh Jackmann'\n",
      "\n",
      "During handling of the above exception, another exception occurred:\n",
      "\n",
      "Traceback (most recent call last):\n",
      "  File \"C:\\Users\\neelv\\anaconda3\\lib\\tkinter\\__init__.py\", line 1921, in __call__\n",
      "    return self.func(*args)\n",
      "  File \"C:\\Users\\neelv\\AppData\\Local\\Temp\\ipykernel_2448\\4276333981.py\", line 27, in predict\n",
      "    messagebox.showinfo(\"Alert Message\", \"Data not entered correctly !\") # this code to make alert messages when we wrong input data\n",
      "NameError: name 'messagebox' is not defined\n"
     ]
    }
   ],
   "source": [
    "wdw = tk.Tk()\n",
    "wdw.title(\"Simulation predict!\") #mengubah nama jendela\n",
    "\n",
    "#Category\n",
    "inp1 = tk.Entry(wdw)\n",
    "inp1.insert(0,'')\n",
    "inp1.grid(row=1,column=1)\n",
    "Category_label = tk.Label(wdw, text=\"Enter the Category of the movie: \")\n",
    "Category_label.grid(row=1,column=0)\n",
    "\n",
    "#Lead Actor\n",
    "inp2 = tk.Entry(wdw)\n",
    "inp2.insert(0,'')\n",
    "inp2.grid(row=2,column=1)\n",
    "Actor_label = tk.Label(wdw, text=\"Enter the Lead Actor of the movie: \")\n",
    "Actor_label.grid(row=2,column=0)\n",
    "\n",
    "#Director\n",
    "inp3 = tk.Entry(wdw)\n",
    "inp3.insert(0,'')\n",
    "inp3.grid(row=3,column=1)\n",
    "Director_label = tk.Label(wdw, text=\"Enter Director of the movie:\")\n",
    "Director_label.grid(row=3,column=0)\n",
    "\n",
    "\n",
    "Predict = tk.Button(wdw, text = \"Click to predict!\", command=predict)\n",
    "Predict.grid(row=12,columnspan=2)\n",
    "Predict_label = tk.Label(wdw, text=\"Earnings in Millions ...\")\n",
    "Predict_label.grid(row=11,columnspan=2)\n",
    "\n",
    "\n",
    "wdw.mainloop()"
   ]
  },
  {
   "cell_type": "markdown",
   "metadata": {},
   "source": [
    "## References <a id=\"11\"></a>"
   ]
  },
  {
   "cell_type": "markdown",
   "metadata": {},
   "source": [
    "References:\n",
    "- https://machinelearningmastery.com/save-load-machine-learning-models-python-scikit-learn/\n",
    "- https://medium.com/geekculture/pycaret-machine-learning-development-and-deployment-on-tkinter-3433a539c5c4\n",
    "- https://copyprogramming.com/howto/value-error-y-contains-previously-unseen-labels\n"
   ]
  },
  {
   "cell_type": "code",
   "execution_count": null,
   "metadata": {},
   "outputs": [],
   "source": []
  }
 ],
 "metadata": {
  "colab": {
   "provenance": []
  },
  "kernelspec": {
   "display_name": "Python 3 (ipykernel)",
   "language": "python",
   "name": "python3"
  },
  "language_info": {
   "codemirror_mode": {
    "name": "ipython",
    "version": 3
   },
   "file_extension": ".py",
   "mimetype": "text/x-python",
   "name": "python",
   "nbconvert_exporter": "python",
   "pygments_lexer": "ipython3",
   "version": "3.10.9"
  }
 },
 "nbformat": 4,
 "nbformat_minor": 4
}
